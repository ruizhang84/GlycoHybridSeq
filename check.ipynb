{
 "cells": [
  {
   "cell_type": "code",
   "execution_count": 2,
   "metadata": {},
   "outputs": [],
   "source": [
    "import pandas as pd\n",
    "import numpy as np"
   ]
  },
  {
   "cell_type": "code",
   "execution_count": 8,
   "metadata": {},
   "outputs": [],
   "source": [
    "# file = \"ZC_20171218_\" + \"H95_R2\" + \".mgf.csv\"\n",
    "file = \"result.csv\""
   ]
  },
  {
   "cell_type": "code",
   "execution_count": 9,
   "metadata": {},
   "outputs": [
    {
     "data": {
      "text/html": [
       "<div>\n",
       "<style scoped>\n",
       "    .dataframe tbody tr th:only-of-type {\n",
       "        vertical-align: middle;\n",
       "    }\n",
       "\n",
       "    .dataframe tbody tr th {\n",
       "        vertical-align: top;\n",
       "    }\n",
       "\n",
       "    .dataframe thead th {\n",
       "        text-align: right;\n",
       "    }\n",
       "</style>\n",
       "<table border=\"1\" class=\"dataframe\">\n",
       "  <thead>\n",
       "    <tr style=\"text-align: right;\">\n",
       "      <th></th>\n",
       "      <th>scan</th>\n",
       "      <th>peptide</th>\n",
       "      <th>glycan</th>\n",
       "      <th>site</th>\n",
       "      <th>score</th>\n",
       "    </tr>\n",
       "  </thead>\n",
       "  <tbody>\n",
       "    <tr>\n",
       "      <th>0</th>\n",
       "      <td>342</td>\n",
       "      <td>NLTYVGDGETRLKYYNK</td>\n",
       "      <td>GlcNAc-7 Man-3 Gal-2 NeuAc-2</td>\n",
       "      <td>0</td>\n",
       "      <td>1.35188</td>\n",
       "    </tr>\n",
       "    <tr>\n",
       "      <th>1</th>\n",
       "      <td>691</td>\n",
       "      <td>DNLTYVGDGETR</td>\n",
       "      <td>GlcNAc-9 Man-3 Gal-4 NeuAc-1</td>\n",
       "      <td>1</td>\n",
       "      <td>1.11225</td>\n",
       "    </tr>\n",
       "    <tr>\n",
       "      <th>2</th>\n",
       "      <td>5062</td>\n",
       "      <td>GVYLTLTPAIDKATANESHNLFLNKATTLLWQE</td>\n",
       "      <td>GlcNAc-7 Man-3 Gal-5 Fuc-3 NeuAc-2</td>\n",
       "      <td>15</td>\n",
       "      <td>1.00365</td>\n",
       "    </tr>\n",
       "    <tr>\n",
       "      <th>3</th>\n",
       "      <td>6935</td>\n",
       "      <td>ENNLTYVGDGETRLK</td>\n",
       "      <td>GlcNAc-7 Man-3 Gal-2 Fuc-1 NeuAc-1</td>\n",
       "      <td>2</td>\n",
       "      <td>1.16868</td>\n",
       "    </tr>\n",
       "    <tr>\n",
       "      <th>4</th>\n",
       "      <td>9331</td>\n",
       "      <td>ENNLTYVGDGETRLKYYNK</td>\n",
       "      <td>GlcNAc-6 Man-3 Fuc-1</td>\n",
       "      <td>2</td>\n",
       "      <td>1.84697</td>\n",
       "    </tr>\n",
       "  </tbody>\n",
       "</table>\n",
       "</div>"
      ],
      "text/plain": [
       "   scan                            peptide  \\\n",
       "0   342                  NLTYVGDGETRLKYYNK   \n",
       "1   691                       DNLTYVGDGETR   \n",
       "2  5062  GVYLTLTPAIDKATANESHNLFLNKATTLLWQE   \n",
       "3  6935                    ENNLTYVGDGETRLK   \n",
       "4  9331                ENNLTYVGDGETRLKYYNK   \n",
       "\n",
       "                                glycan  site    score  \n",
       "0        GlcNAc-7 Man-3 Gal-2 NeuAc-2      0  1.35188  \n",
       "1        GlcNAc-9 Man-3 Gal-4 NeuAc-1      1  1.11225  \n",
       "2  GlcNAc-7 Man-3 Gal-5 Fuc-3 NeuAc-2     15  1.00365  \n",
       "3  GlcNAc-7 Man-3 Gal-2 Fuc-1 NeuAc-1      2  1.16868  \n",
       "4                GlcNAc-6 Man-3 Fuc-1      2  1.84697  "
      ]
     },
     "execution_count": 9,
     "metadata": {},
     "output_type": "execute_result"
    }
   ],
   "source": [
    "df = pd.read_csv(file)\n",
    "df.head()"
   ]
  },
  {
   "cell_type": "code",
   "execution_count": 10,
   "metadata": {},
   "outputs": [
    {
     "data": {
      "text/plain": [
       "[0.920528,\n",
       " 0.9275059999999999,\n",
       " 0.9366329999999999,\n",
       " 0.95036,\n",
       " 0.951341,\n",
       " 1.00365,\n",
       " 1.0391700000000001,\n",
       " 1.0479100000000001,\n",
       " 1.05195,\n",
       " 1.0543799999999999,\n",
       " 1.08181,\n",
       " 1.08486,\n",
       " 1.11225,\n",
       " 1.16868,\n",
       " 1.18585,\n",
       " 1.2269299999999999,\n",
       " 1.35188,\n",
       " 1.39437,\n",
       " 1.42612,\n",
       " 1.49643,\n",
       " 1.53851,\n",
       " 1.55741,\n",
       " 1.62381,\n",
       " 1.66582,\n",
       " 1.83237,\n",
       " 1.8469099999999998,\n",
       " 1.84697,\n",
       " 1.89368,\n",
       " 2.00165,\n",
       " 2.02778,\n",
       " 2.0842400000000003,\n",
       " 2.1167599999999998,\n",
       " 2.22008,\n",
       " 2.24147,\n",
       " 2.38972,\n",
       " 2.67417,\n",
       " 2.68696,\n",
       " 3.2393,\n",
       " 3.34891,\n",
       " 3.4125900000000002,\n",
       " 3.6743900000000003,\n",
       " 3.734,\n",
       " 4.8929599999999995]"
      ]
     },
     "execution_count": 10,
     "metadata": {},
     "output_type": "execute_result"
    }
   ],
   "source": [
    "sorted(df.score)"
   ]
  },
  {
   "cell_type": "code",
   "execution_count": 12,
   "metadata": {},
   "outputs": [
    {
     "data": {
      "text/html": [
       "<div>\n",
       "<style scoped>\n",
       "    .dataframe tbody tr th:only-of-type {\n",
       "        vertical-align: middle;\n",
       "    }\n",
       "\n",
       "    .dataframe tbody tr th {\n",
       "        vertical-align: top;\n",
       "    }\n",
       "\n",
       "    .dataframe thead th {\n",
       "        text-align: right;\n",
       "    }\n",
       "</style>\n",
       "<table border=\"1\" class=\"dataframe\">\n",
       "  <thead>\n",
       "    <tr style=\"text-align: right;\">\n",
       "      <th></th>\n",
       "      <th>scan</th>\n",
       "      <th>peptide</th>\n",
       "      <th>glycan</th>\n",
       "      <th>site</th>\n",
       "      <th>score</th>\n",
       "    </tr>\n",
       "  </thead>\n",
       "  <tbody>\n",
       "    <tr>\n",
       "      <th>30</th>\n",
       "      <td>12224</td>\n",
       "      <td>DNLTYVGDGETRLKYYNK</td>\n",
       "      <td>GlcNAc-11 Man-3 Gal-6 Fuc-2 NeuAc-1</td>\n",
       "      <td>1</td>\n",
       "      <td>3.734</td>\n",
       "    </tr>\n",
       "  </tbody>\n",
       "</table>\n",
       "</div>"
      ],
      "text/plain": [
       "     scan             peptide                                glycan  site  \\\n",
       "30  12224  DNLTYVGDGETRLKYYNK  GlcNAc-11 Man-3 Gal-6 Fuc-2 NeuAc-1      1   \n",
       "\n",
       "    score  \n",
       "30  3.734  "
      ]
     },
     "execution_count": 12,
     "metadata": {},
     "output_type": "execute_result"
    }
   ],
   "source": [
    "df[df.score == 3.734]"
   ]
  },
  {
   "cell_type": "code",
   "execution_count": null,
   "metadata": {},
   "outputs": [],
   "source": []
  },
  {
   "cell_type": "code",
   "execution_count": null,
   "metadata": {},
   "outputs": [],
   "source": []
  }
 ],
 "metadata": {
  "kernelspec": {
   "display_name": "Python 3",
   "language": "python",
   "name": "python3"
  },
  "language_info": {
   "codemirror_mode": {
    "name": "ipython",
    "version": 3
   },
   "file_extension": ".py",
   "mimetype": "text/x-python",
   "name": "python",
   "nbconvert_exporter": "python",
   "pygments_lexer": "ipython3",
   "version": "3.8.6"
  }
 },
 "nbformat": 4,
 "nbformat_minor": 4
}
